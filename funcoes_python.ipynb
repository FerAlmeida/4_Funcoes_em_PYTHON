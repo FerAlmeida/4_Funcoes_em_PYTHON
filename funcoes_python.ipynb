{
 "cells": [
  {
   "cell_type": "markdown",
   "metadata": {},
   "source": [
    "#### Funções em PYTHON\n",
    "- código mais limpo e organizado\n",
    "- reaproveitamento de código\n",
    "- utliza-se a palavra ' def ' para criar uma função"
   ]
  },
  {
   "cell_type": "code",
   "execution_count": 5,
   "metadata": {},
   "outputs": [],
   "source": [
    "def mostrar_nome():                            # Foi criado um bloco de códigos que não será executado até que o mesmo seja 'chamado'\n",
    "    print(\"Olá, Fernando\")                      # Visto isso que, foi dado o print e nada aconteceu, pois o código está aguardando para ser 'chamado'"
   ]
  },
  {
   "cell_type": "markdown",
   "metadata": {},
   "source": [
    "###### agora vamos chamar a nossa função"
   ]
  },
  {
   "cell_type": "code",
   "execution_count": 6,
   "metadata": {},
   "outputs": [
    {
     "name": "stdout",
     "output_type": "stream",
     "text": [
      "Olá, Fernando\n",
      "Olá, Fernando\n"
     ]
    }
   ],
   "source": [
    "mostrar_nome()\n",
    "mostrar_nome()"
   ]
  },
  {
   "cell_type": "markdown",
   "metadata": {},
   "source": [
    "###### um exemplo com a função recebendo determinados valores e recebenco parâmetros nas chaves"
   ]
  },
  {
   "cell_type": "code",
   "execution_count": 7,
   "metadata": {},
   "outputs": [
    {
     "name": "stdout",
     "output_type": "stream",
     "text": [
      "30\n"
     ]
    }
   ],
   "source": [
    "def somar_numeros(numero_1, numero_2):\n",
    "    print(numero_1 + numero_2)\n",
    "\n",
    "somar_numeros(10,20)"
   ]
  },
  {
   "cell_type": "code",
   "execution_count": 10,
   "metadata": {},
   "outputs": [
    {
     "name": "stdout",
     "output_type": "stream",
     "text": [
      "60\n"
     ]
    }
   ],
   "source": [
    "def somar_numeros(numero_1, numero_2,numero_3):\n",
    "    print(numero_1 + numero_2 + numero_3)\n",
    "\n",
    "somar_numeros(10,20,30)"
   ]
  },
  {
   "cell_type": "markdown",
   "metadata": {},
   "source": [
    "###### as funções também podem retornar um valor"
   ]
  },
  {
   "cell_type": "code",
   "execution_count": 12,
   "metadata": {},
   "outputs": [
    {
     "name": "stdout",
     "output_type": "stream",
     "text": [
      "70\n"
     ]
    }
   ],
   "source": [
    "def somar_numeros(numero_1, numero_2):\n",
    "    return numero_1 + numero_2\n",
    "\n",
    "resultado = somar_numeros(30,40)\n",
    "print(resultado)"
   ]
  },
  {
   "cell_type": "markdown",
   "metadata": {},
   "source": [
    "###### recebendo um parâmetro aleatório"
   ]
  },
  {
   "cell_type": "code",
   "execution_count": 17,
   "metadata": {},
   "outputs": [
    {
     "name": "stdout",
     "output_type": "stream",
     "text": [
      "Olá, Aristóteles\n"
     ]
    }
   ],
   "source": [
    "def mostrar_nome(nome):\n",
    "    print(f\"Olá, {nome}\")\n",
    "\n",
    "mostrar_nome(\"Aristóteles\")"
   ]
  },
  {
   "cell_type": "markdown",
   "metadata": {},
   "source": [
    "- O uso da função nos permite facilitar a execução do código e ainda fazer correções nesses códigos de forma a\n",
    "alterar alguma informação ou alguns dados.Em códigos grandes pode-se fazer essas alterações sem a necessidade \n",
    "de fazer uma varredura e alteração linha a linha."
   ]
  }
 ],
 "metadata": {
  "kernelspec": {
   "display_name": "Python 3",
   "language": "python",
   "name": "python3"
  },
  "language_info": {
   "codemirror_mode": {
    "name": "ipython",
    "version": 3
   },
   "file_extension": ".py",
   "mimetype": "text/x-python",
   "name": "python",
   "nbconvert_exporter": "python",
   "pygments_lexer": "ipython3",
   "version": "3.12.2"
  }
 },
 "nbformat": 4,
 "nbformat_minor": 2
}
